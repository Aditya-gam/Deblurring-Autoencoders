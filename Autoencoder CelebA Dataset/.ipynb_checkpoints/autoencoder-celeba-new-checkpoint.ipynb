{
 "cells": [
  {
   "cell_type": "markdown",
   "metadata": {},
   "source": [
    "# AutoEncoder CelebA Dataset"
   ]
  },
  {
   "cell_type": "code",
   "execution_count": 1,
   "metadata": {},
   "outputs": [],
   "source": [
    "# !pip install scikit-image"
   ]
  },
  {
   "cell_type": "code",
   "execution_count": 2,
   "metadata": {
    "_cell_guid": "b1076dfc-b9ad-4769-8c92-a6c4dae69d19",
    "_uuid": "8f2839f25d086af736a60e9eeb907d3b93b6e0e5",
    "execution": {
     "iopub.execute_input": "2024-03-09T21:37:14.166546Z",
     "iopub.status.busy": "2024-03-09T21:37:14.166084Z",
     "iopub.status.idle": "2024-03-09T21:37:22.260482Z",
     "shell.execute_reply": "2024-03-09T21:37:22.259457Z",
     "shell.execute_reply.started": "2024-03-09T21:37:14.166506Z"
    }
   },
   "outputs": [
    {
     "name": "stdout",
     "output_type": "stream",
     "text": [
      "Device: cpu\n"
     ]
    }
   ],
   "source": [
    "import os\n",
    "import numpy as np\n",
    "import matplotlib.pyplot as plt\n",
    "from PIL import Image\n",
    "\n",
    "# from skimage.metrics import peak_signal_noise_ratio as psnr\n",
    "# from skimage.metrics import structural_similarity as ssim\n",
    "\n",
    "import torch\n",
    "import torch.nn as nn\n",
    "import torch.optim as optim\n",
    "import torchvision\n",
    "import torchvision.transforms as transforms\n",
    "from torch.utils.data import DataLoader, Dataset\n",
    "\n",
    "device = torch.device(\"cuda:0\" if torch.cuda.is_available() else \"cpu\")\n",
    "print(f'Device: {device}')"
   ]
  },
  {
   "cell_type": "markdown",
   "metadata": {},
   "source": [
    "# Data Exploration"
   ]
  },
  {
   "cell_type": "code",
   "execution_count": 3,
   "metadata": {
    "execution": {
     "iopub.execute_input": "2024-03-09T21:37:22.263537Z",
     "iopub.status.busy": "2024-03-09T21:37:22.262718Z",
     "iopub.status.idle": "2024-03-09T21:37:22.291521Z",
     "shell.execute_reply": "2024-03-09T21:37:22.290659Z",
     "shell.execute_reply.started": "2024-03-09T21:37:22.263495Z"
    }
   },
   "outputs": [
    {
     "name": "stdout",
     "output_type": "stream",
     "text": [
      "Image Size:  (178, 218)\n",
      "Image Shape:  (3, 218, 178)\n"
     ]
    }
   ],
   "source": [
    "# Path to your image\n",
    "image_path = './data/CelebA/test/blur/10.jpg'\n",
    "\n",
    "# Open the image\n",
    "image = Image.open(image_path)\n",
    "\n",
    "# Get the size of the image\n",
    "size = image.size\n",
    "\n",
    "# Print the size (Width, Height)\n",
    "print(\"Image Size: \", size)\n",
    "\n",
    "# To get the shape, especially if you plan to work with PyTorch, you'll likely need the channels as well\n",
    "# PIL Images are in Width x Height format. For the shape, we usually want channels as well,\n",
    "# which for RGB images is 3. PyTorch uses Channels x Height x Width format.\n",
    "shape = (3, image.height, image.width)\n",
    "\n",
    "# Print the shape\n",
    "print(\"Image Shape: \", shape)"
   ]
  },
  {
   "cell_type": "code",
   "execution_count": 4,
   "metadata": {
    "execution": {
     "iopub.execute_input": "2024-03-09T21:37:22.292760Z",
     "iopub.status.busy": "2024-03-09T21:37:22.292482Z",
     "iopub.status.idle": "2024-03-09T21:37:22.301602Z",
     "shell.execute_reply": "2024-03-09T21:37:22.300674Z",
     "shell.execute_reply.started": "2024-03-09T21:37:22.292720Z"
    }
   },
   "outputs": [],
   "source": [
    "class CelebADeblurDataset(Dataset):\n",
    "    def __init__(self, root_dir, split='train', transform=None):\n",
    "        \"\"\"\n",
    "        Args:\n",
    "            root_dir (string): Directory with all the images.\n",
    "            split (string): One of 'train', 'validation', 'test' to select the dataset split.\n",
    "            transform (callable, optional): Optional transform to be applied on a sample.\n",
    "        \"\"\"\n",
    "        self.root_dir = os.path.join(root_dir, split)\n",
    "        self.transform = transform\n",
    "        self.blur_dir = os.path.join(self.root_dir, 'blur')\n",
    "        self.sharp_dir = os.path.join(self.root_dir, 'sharp')\n",
    "        self.image_files = os.listdir(self.blur_dir)\n",
    "\n",
    "    def __len__(self):\n",
    "        return len(self.image_files)\n",
    "\n",
    "    def __getitem__(self, idx):\n",
    "        blur_img_path = os.path.join(self.blur_dir, self.image_files[idx])\n",
    "        sharp_img_path = os.path.join(self.sharp_dir, self.image_files[idx])\n",
    "\n",
    "        blur_image = Image.open(blur_img_path).convert('RGB')\n",
    "        sharp_image = Image.open(sharp_img_path).convert('RGB')\n",
    "\n",
    "        if self.transform:\n",
    "            blur_image = self.transform(blur_image)\n",
    "            sharp_image = self.transform(sharp_image)\n",
    "\n",
    "        return blur_image, sharp_image"
   ]
  },
  {
   "cell_type": "code",
   "execution_count": 5,
   "metadata": {
    "execution": {
     "iopub.execute_input": "2024-03-09T21:37:22.303612Z",
     "iopub.status.busy": "2024-03-09T21:37:22.303338Z",
     "iopub.status.idle": "2024-03-09T21:37:24.548093Z",
     "shell.execute_reply": "2024-03-09T21:37:24.547266Z",
     "shell.execute_reply.started": "2024-03-09T21:37:22.303586Z"
    }
   },
   "outputs": [],
   "source": [
    "# Define your transforms (adjust as necessary)\n",
    "transform = transforms.Compose([\n",
    "    transforms.Resize((256, 256)),  # Resize the images to 256x256\n",
    "    transforms.ToTensor(),\n",
    "])\n",
    "\n",
    "# # Instantiate your dataset\n",
    "root_dir = './data/CelebA'\n",
    "train_dataset = CelebADeblurDataset(root_dir=root_dir, split='train', transform=transform)\n",
    "validation_dataset = CelebADeblurDataset(root_dir=root_dir, split='validation', transform=transform)\n",
    "test_dataset = CelebADeblurDataset(root_dir=root_dir, split='test', transform=transform)\n",
    "\n",
    "# Load the datasets into DataLoader for efficient batching and shuffling\n",
    "train_loader = DataLoader(train_dataset, batch_size=64, shuffle=True)\n",
    "validation_loader = DataLoader(validation_dataset, batch_size=64, shuffle=False)\n",
    "test_loader = DataLoader(test_dataset, batch_size=64, shuffle=False)"
   ]
  },
  {
   "cell_type": "code",
   "execution_count": null,
   "metadata": {},
   "outputs": [],
   "source": []
  },
  {
   "cell_type": "code",
   "execution_count": null,
   "metadata": {
    "execution": {
     "iopub.execute_input": "2024-03-09T21:37:24.550545Z",
     "iopub.status.busy": "2024-03-09T21:37:24.550248Z",
     "iopub.status.idle": "2024-03-09T21:37:26.309513Z",
     "shell.execute_reply": "2024-03-09T21:37:26.308444Z",
     "shell.execute_reply.started": "2024-03-09T21:37:24.550521Z"
    }
   },
   "outputs": [],
   "source": [
    "def imshow_grid(blurred_images, sharp_images, n_images=5, title=None):\n",
    "    \"\"\"Function to show n pairs of blurred and sharp images\"\"\"\n",
    "    # Assuming `blurred_images` and `sharp_images` are batches of images\n",
    "    # Select the first `n_images`\n",
    "    blurred_images = blurred_images[:n_images]\n",
    "    sharp_images = sharp_images[:n_images]\n",
    "    \n",
    "    # Make a grid for blurred and sharp images\n",
    "    blurred_grid = torchvision.utils.make_grid(blurred_images, nrow=n_images)\n",
    "    sharp_grid = torchvision.utils.make_grid(sharp_images, nrow=n_images)\n",
    "    \n",
    "    # Convert to numpy arrays for plotting\n",
    "    np_blurred_grid = blurred_grid.numpy()\n",
    "    np_sharp_grid = sharp_grid.numpy()\n",
    "    \n",
    "    # Concatenate grids along height (axis=1 for Height in HWC format after transpose)\n",
    "    combined_grid = np.concatenate((np.transpose(np_blurred_grid, (1, 2, 0)), np.transpose(np_sharp_grid, (1, 2, 0))), axis=0)\n",
    "    \n",
    "    plt.figure(figsize=(15, 6))  # Adjust size as needed\n",
    "    plt.imshow(combined_grid)\n",
    "    if title:\n",
    "        plt.title(title)\n",
    "    plt.axis('off')\n",
    "    plt.show()\n",
    "    \n",
    "# To visualize the first few pairs of images\n",
    "blurred_images, sharp_images = next(iter(train_loader))\n",
    "\n",
    "# Visualizing the first image pair as an example\n",
    "imshow_grid(blurred_images, sharp_images, n_images=5, title=\"Blurred vs Sharp Images\")"
   ]
  },
  {
   "cell_type": "markdown",
   "metadata": {},
   "source": [
    "# Autoencoder Model"
   ]
  },
  {
   "cell_type": "code",
   "execution_count": null,
   "metadata": {
    "execution": {
     "iopub.execute_input": "2024-03-09T21:37:26.311194Z",
     "iopub.status.busy": "2024-03-09T21:37:26.310892Z",
     "iopub.status.idle": "2024-03-09T21:37:26.333204Z",
     "shell.execute_reply": "2024-03-09T21:37:26.332090Z",
     "shell.execute_reply.started": "2024-03-09T21:37:26.311169Z"
    }
   },
   "outputs": [],
   "source": [
    "import torch\n",
    "import torch.nn as nn\n",
    "import torch.nn.functional as F\n",
    "import matplotlib.pyplot as plt\n",
    "\n",
    "class Autoencoder(nn.Module):\n",
    "    def __init__(self):\n",
    "        super(Autoencoder, self).__init__()\n",
    "        # Encoder\n",
    "        self.encoder = nn.Sequential(\n",
    "            nn.Conv2d(3, 8, 3, stride=2, padding=1),  # C35→8↓2\n",
    "            nn.ReLU(True),\n",
    "            self._resblock(8, 8, 2),  # R85(2)\n",
    "            nn.Conv2d(8, 16, 5, stride=2, padding=2),  # C85→16↓2\n",
    "            nn.ReLU(True),\n",
    "            self._resblock(16, 16, 2),  # R165(2)\n",
    "            nn.Conv2d(16, 32, 3, stride=2, padding=1),  # C163→32↓2\n",
    "            nn.ReLU(True),\n",
    "            self._resblock(32, 32, 1)  # R323\n",
    "        )\n",
    "        # Decoder\n",
    "        self.decoder = nn.Sequential(\n",
    "            self._resblock(32, 32, 1),  # R323\n",
    "            nn.ConvTranspose2d(32, 16, 2, stride=2),  # C322→16↑2\n",
    "            nn.ReLU(True),\n",
    "            self._resblock(16, 16, 2),  # R165(2)\n",
    "            nn.ConvTranspose2d(16, 8, 4, stride=2, padding=1),  # C164→8↑2\n",
    "            nn.ReLU(True),\n",
    "            self._resblock(8, 8, 2),  # R85(2)\n",
    "            nn.ConvTranspose2d(8, 3, 2, stride=2),  # C843→3↑2\n",
    "            nn.Sigmoid()  # Assuming input images are normalized between 0 and 1\n",
    "        )\n",
    "\n",
    "    def _resblock(self, in_channels, out_channels, repetitions):\n",
    "        layers = []\n",
    "        for _ in range(repetitions):\n",
    "            layers.append(nn.Conv2d(in_channels, out_channels, 3, padding=1))\n",
    "            layers.append(nn.ReLU(True))\n",
    "            in_channels = out_channels\n",
    "        return nn.Sequential(*layers)\n",
    "\n",
    "    def forward(self, x):\n",
    "        x = self.encoder(x)\n",
    "        x = self.decoder(x)\n",
    "        return x\n",
    "    \n",
    "    def mse_loss(self, output, target):\n",
    "        return F.mse_loss(output, target)\n",
    "\n",
    "    def gradient_loss(self, output, target):\n",
    "        dx = torch.tensor([[-1, 0, 1], [-2, 0, 2], [-1, 0, 1]]).float().unsqueeze(0).unsqueeze(0).repeat(output.size(1), 1, 1, 1).to(output.device)\n",
    "        dy = torch.tensor([[-1, -2, -1], [0, 0, 0], [1, 2, 1]]).float().unsqueeze(0).unsqueeze(0).repeat(output.size(1), 1, 1, 1).to(output.device)\n",
    "        \n",
    "        grad_x_output = nn.functional.conv2d(output, dx, padding=1, groups=output.size(1))\n",
    "        grad_y_output = nn.functional.conv2d(output, dy, padding=1, groups=output.size(1))\n",
    "        grad_x_target = nn.functional.conv2d(target, dx, padding=1, groups=target.size(1))\n",
    "        grad_y_target = nn.functional.conv2d(target, dy, padding=1, groups=target.size(1))\n",
    "        \n",
    "        grad_diff = (grad_x_output - grad_x_target)**2 + (grad_y_output - grad_y_target)**2\n",
    "        return grad_diff.mean()\n",
    "\n",
    "\n",
    "    def fit(self, train_loader, validation_loader=None, epochs=10, learning_rate=1e-3, weight_decay=1e-5, verbose=False):\n",
    "        optimizer = optim.Adam(self.parameters(), lr=learning_rate, weight_decay=weight_decay)\n",
    "        self.to(device)\n",
    "        results = []  # List to store outputs for visualization\n",
    "\n",
    "        for epoch in range(epochs):\n",
    "            self.train()  # Set model to training mode\n",
    "            train_loss = 0.0\n",
    "            \n",
    "            for data in train_loader:\n",
    "                inputs, _ = data\n",
    "                inputs = inputs.to(device)\n",
    "\n",
    "                optimizer.zero_grad()\n",
    "\n",
    "                outputs = self(inputs)\n",
    "                loss_mse = self.mse_loss(outputs, inputs)\n",
    "                loss_grad = self.gradient_loss(outputs, inputs)\n",
    "\n",
    "                # The paper scales the gradient cost by λ=0.1\n",
    "                loss = loss_mse + 0.1 * loss_grad\n",
    "\n",
    "                loss.backward()\n",
    "                optimizer.step()\n",
    "\n",
    "                train_loss += loss.item()\n",
    "\n",
    "            train_loss /= len(train_loader)\n",
    "\n",
    "            validation_loss = 0.0\n",
    "            if validation_loader and verbose:\n",
    "                self.eval()  # Set the model to evaluation mode\n",
    "                with torch.no_grad():\n",
    "                    for data in validation_loader:\n",
    "                        inputs, _ = data\n",
    "                        inputs = inputs.to(device)\n",
    "                        outputs = self(inputs)\n",
    "                        loss_mse = self.mse_loss(outputs, inputs)\n",
    "                        loss_grad = self.gradient_loss(outputs, inputs)\n",
    "                        loss = loss_mse + 0.1 * loss_grad\n",
    "                        validation_loss += loss.item()\n",
    "                    validation_loss /= len(validation_loader)\n",
    "\n",
    "                print(f\"Epoch {epoch+1}/{epochs}, Train Loss: {train_loss:.4f}, Validation Loss: {validation_loss:.4f}\")\n",
    "            \n",
    "            # Store outputs along with epoch number for visualization\n",
    "            results.append((epoch, inputs.cpu(), outputs.cpu()))\n",
    "\n",
    "        return results"
   ]
  },
  {
   "cell_type": "markdown",
   "metadata": {},
   "source": [
    "## Train Model"
   ]
  },
  {
   "cell_type": "code",
   "execution_count": null,
   "metadata": {
    "execution": {
     "iopub.execute_input": "2024-03-09T21:37:26.334821Z",
     "iopub.status.busy": "2024-03-09T21:37:26.334429Z"
    }
   },
   "outputs": [],
   "source": [
    "# Instantiate the autoencoder model\n",
    "model = Autoencoder().to(device)\n",
    "\n",
    "# Train the model\n",
    "num_epochs = 20  # You can adjust the number of epochs\n",
    "outputs = model.fit(train_loader, validation_loader, epochs=num_epochs, verbose=True)"
   ]
  },
  {
   "cell_type": "code",
   "execution_count": null,
   "metadata": {},
   "outputs": [],
   "source": [
    "# Save the model's state dictionary\n",
    "model_save_path = './autoencoder_model_new.pth'\n",
    "torch.save(model.state_dict(), model_save_path)"
   ]
  },
  {
   "cell_type": "code",
   "execution_count": null,
   "metadata": {},
   "outputs": [],
   "source": [
    "# Visualize the reconstructions\n",
    "# model.visualize_reconstructions(outputs[-1], n=5)"
   ]
  },
  {
   "cell_type": "markdown",
   "metadata": {},
   "source": [
    "# Prediction"
   ]
  },
  {
   "cell_type": "markdown",
   "metadata": {},
   "source": [
    "#### ON test set"
   ]
  },
  {
   "cell_type": "code",
   "execution_count": null,
   "metadata": {},
   "outputs": [],
   "source": [
    "def evaluate_model(model, test_loader):\n",
    "    model.eval()  # Set the model to evaluation mode\n",
    "    with torch.no_grad():  # No gradients needed\n",
    "        total_mse, total_psnr, total_ssim = 0, 0, 0\n",
    "        for batch in test_loader:\n",
    "            inputs, targets = batch\n",
    "            inputs, targets = inputs.to(device), targets.to(device)\n",
    "            outputs = model(inputs)\n",
    "            \n",
    "            mse = nn.MSELoss()(outputs, targets).item()\n",
    "            total_mse += mse\n",
    "            \n",
    "            for i in range(outputs.size(0)):\n",
    "                output_np = outputs[i].squeeze().cpu().numpy().transpose(1, 2, 0)\n",
    "                target_np = targets[i].squeeze().cpu().numpy().transpose(1, 2, 0)\n",
    "                total_psnr += psnr(target_np, output_np, data_range=1)\n",
    "                total_ssim += ssim(target_np, output_np, multichannel=True, data_range=1)\n",
    "        \n",
    "        # Average metrics\n",
    "        avg_mse = total_mse / len(test_loader)\n",
    "        avg_psnr = total_psnr / (len(test_loader) * test_loader.batch_size)\n",
    "        avg_ssim = total_ssim / (len(test_loader) * test_loader.batch_size)\n",
    "        \n",
    "        print(f\"Test MSE: {avg_mse:.4f}, PSNR: {avg_psnr:.4f}, SSIM: {avg_ssim:.4f}\")\n",
    "\n",
    "# Evaluate the model\n",
    "evaluate_model(model, test_loader)"
   ]
  },
  {
   "cell_type": "markdown",
   "metadata": {},
   "source": [
    "#### On single image"
   ]
  },
  {
   "cell_type": "code",
   "execution_count": null,
   "metadata": {},
   "outputs": [],
   "source": [
    "transform = transforms.Compose([\n",
    "    transforms.Resize((256, 256)),  # Resize the images to 256x256\n",
    "    transforms.ToTensor(),\n",
    "])\n",
    "\n",
    "device = torch.device(\"cuda\" if torch.cuda.is_available() else \"cpu\")\n",
    "image_path = 'C:/Work/UC Riverside/Q2/AI/project/single.jpeg'\n",
    "model_path = 'C:/Work/UC Riverside/Q2/AI/project/autoencoder_model_full8.pth'\n",
    "#Predicting on a single image\n",
    "def predict_single_image(image_path, model_path, device):\n",
    "    global transform\n",
    "\n",
    "    # Load the image\n",
    "    image = Image.open(image_path).convert('RGB')\n",
    "    image = transform(image).unsqueeze(0)  # Add batch dimension\n",
    "\n",
    "    # Initialize the model and load the saved weights\n",
    "    model = Autoencoder().to(device)\n",
    "    model.load_state_dict(torch.load(model_path, map_location=torch.device('cpu')))\n",
    "    model.eval()\n",
    "\n",
    "    # Predict\n",
    "    with torch.no_grad():\n",
    "        image = image.to(device)\n",
    "        outputs = model(image)\n",
    "        reconstructed_image = outputs.squeeze(0)  # Remove batch dimension\n",
    "    return reconstructed_image  \n",
    "\n",
    "\n",
    "recon = predict_single_image(image_path,model_path,device)\n",
    "plt.imshow(recon.permute(1, 2, 0))  # Convert CxHxW to HxWxC\n",
    "plt.axis('off')\n",
    "plt.show()"
   ]
  },
  {
   "cell_type": "code",
   "execution_count": null,
   "metadata": {},
   "outputs": [],
   "source": []
  }
 ],
 "metadata": {
  "kaggle": {
   "accelerator": "nvidiaTeslaT4",
   "dataSources": [
    {
     "datasetId": 3055596,
     "sourceId": 5251537,
     "sourceType": "datasetVersion"
    }
   ],
   "isGpuEnabled": true,
   "isInternetEnabled": true,
   "language": "python",
   "sourceType": "notebook"
  },
  "kernelspec": {
   "display_name": "cuda",
   "language": "python",
   "name": "cuda"
  },
  "language_info": {
   "codemirror_mode": {
    "name": "ipython",
    "version": 3
   },
   "file_extension": ".py",
   "mimetype": "text/x-python",
   "name": "python",
   "nbconvert_exporter": "python",
   "pygments_lexer": "ipython3",
   "version": "3.8.18"
  }
 },
 "nbformat": 4,
 "nbformat_minor": 4
}
